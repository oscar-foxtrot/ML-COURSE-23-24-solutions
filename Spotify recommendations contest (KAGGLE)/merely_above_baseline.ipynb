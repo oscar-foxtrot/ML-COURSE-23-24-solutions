{
 "cells": [
  {
   "cell_type": "code",
   "execution_count": 2,
   "id": "47d1566b",
   "metadata": {
    "_cell_guid": "b1076dfc-b9ad-4769-8c92-a6c4dae69d19",
    "_uuid": "8f2839f25d086af736a60e9eeb907d3b93b6e0e5",
    "papermill": {
     "duration": 0.943753,
     "end_time": "2024-03-20T21:28:20.226955",
     "exception": false,
     "start_time": "2024-03-20T21:28:19.283202",
     "status": "completed"
    },
    "tags": []
   },
   "outputs": [],
   "source": [
    "# This Python 3 environment comes with many helpful analytics libraries installed\n",
    "# It is defined by the kaggle/python Docker image: https://github.com/kaggle/docker-python\n",
    "# For example, here's several helpful packages to load\n",
    "\n",
    "import numpy as np # linear algebra\n",
    "import pandas as pd # data processing, CSV file I/O (e.g. pd.read_csv)\n",
    "\n",
    "# Input data files are available in the read-only \"../input/\" directory\n",
    "# For example, running this (by clicking run or pressing Shift+Enter) will list all files under the input directory\n",
    "\n",
    "import os\n",
    "for dirname, _, filenames in os.walk('/kaggle/input'):\n",
    "    for filename in filenames:\n",
    "        print(os.path.join(dirname, filename))\n",
    "\n",
    "# You can write up to 20GB to the current directory (/kaggle/working/) that gets preserved as output when you create a version using \"Save & Run All\" \n",
    "# You can also write temporary files to /kaggle/temp/, but they won't be saved outside of the current session"
   ]
  },
  {
   "cell_type": "markdown",
   "id": "9709962c",
   "metadata": {
    "papermill": {
     "duration": 0.006784,
     "end_time": "2024-03-20T21:28:20.241609",
     "exception": false,
     "start_time": "2024-03-20T21:28:20.234825",
     "status": "completed"
    },
    "tags": []
   },
   "source": [
    "# Задание 10. Контест. Spotify recommendations"
   ]
  },
  {
   "cell_type": "markdown",
   "id": "9f03d0a0",
   "metadata": {
    "papermill": {
     "duration": 0.006528,
     "end_time": "2024-03-20T21:28:20.254999",
     "exception": false,
     "start_time": "2024-03-20T21:28:20.248471",
     "status": "completed"
    },
    "tags": []
   },
   "source": [
    "В этом задании вам предложен набор данных, содержащий информацию о некоторых плейлистах и треках музыкального сервиса Spotify.\n",
    "\n",
    "Признаковое описание состоит из результатов некоторых запросов в Spotify Web API (в частности **GET https:// api.spotify.com/v1/audio-features/{id}** и **GET https:// api.spotify.com/v1/playlists/{playlist_id}/tracks**), которые возвращают объекты, содержащие различные свойства треков и плейлистов. В выборку также добавлены закодированные номера артистов и альбомов (сквозная нумерация).\n",
    "\n",
    "\n",
    "\n",
    "1. В файле **added_info.csv** приводятся данные о том, когда и каким пользователем трек был добавлен в плейлист.\n",
    "\n",
    "2. В файле **audio_features.csv** содержатся сведения о некоторых музыкальных свойствах треков, таких как танцевальность, акустичность, громкость, темп и других.\n",
    "\n",
    "3. В файле **tracks_info.csv** содержатся данные об исполнителях и альбомах, связанных с той или иной композицией.\n",
    "\n",
    "\n",
    "Более подробно про признаки можно прочитать в [документации (англ.)](https://developer.spotify.com/documentation/web-api) Spotify Web API.\n",
    "\n",
    "\n",
    "В качестве метрики качества используется **F1-мера (F1 Score)** -- среднее гармоническое точности (Precision) и полноты (Recall)."
   ]
  },
  {
   "cell_type": "markdown",
   "id": "0e3b39f9",
   "metadata": {
    "papermill": {
     "duration": 0.006777,
     "end_time": "2024-03-20T21:28:20.268650",
     "exception": false,
     "start_time": "2024-03-20T21:28:20.261873",
     "status": "completed"
    },
    "tags": []
   },
   "source": [
    "В качестве значения, которое нужно предсказать, выступает бинарный признак принадлежности трека плейлисту. Если для пары плейлист-трек он равен 1, то плейлист содержит этот трек; если 0 -- то не содержит."
   ]
  },
  {
   "cell_type": "markdown",
   "id": "427f110c",
   "metadata": {
    "papermill": {
     "duration": 0.006652,
     "end_time": "2024-03-20T21:28:20.282114",
     "exception": false,
     "start_time": "2024-03-20T21:28:20.275462",
     "status": "completed"
    },
    "tags": []
   },
   "source": [
    "Вам необходимо разработать модель машинного обучения для предсказания **принадлежности треков плейлистам**, основанную на свойствах плейлистов, треков и пользователей.\n",
    "\n",
    "В папке с заданием помимо этого и вышеописанных файлов находятся:\n",
    "- 2 файла с данными об плейлистах и треках -- **train.csv** и **test.csv**, которые содержат, соответственно, тренировочную выборку (с известными значениями целевой переменной в поле **exists**) и признаковую часть тестовой выборки."
   ]
  },
  {
   "cell_type": "markdown",
   "id": "8343b34d",
   "metadata": {
    "papermill": {
     "duration": 0.006509,
     "end_time": "2024-03-20T21:28:20.295822",
     "exception": false,
     "start_time": "2024-03-20T21:28:20.289313",
     "status": "completed"
    },
    "tags": []
   },
   "source": [
    "В качестве ответа на это задание вы должны предоставить **Kaggle-ноутбук** (как создать такой ноутбук, читайте ниже), который:\n",
    "1. генерирует на выходе **csv-файл** со столбцом предсказанных принадлежностей треков плейлистам для пар из тестовой выборки и отправляет его в систему Kaggle. Пример такого файла находится в папке с заданием (**sample_submission.csv**);\n",
    "2. разрешает чтение пользователю [Sergey Serov](https://www.kaggle.com/ssserov/account).\n",
    "\n",
    "**НЕВЫПОЛНЕНИЕ ЛЮБОГО ИЗ УКАЗАННЫХ ПУНКТОВ ПРИВЕДЁТ К ОЦЕНИВАНИЮ ЗАДАНИЯ В 0 БАЛЛОВ!**"
   ]
  },
  {
   "cell_type": "markdown",
   "id": "1f35b44b",
   "metadata": {
    "papermill": {
     "duration": 0.006689,
     "end_time": "2024-03-20T21:28:20.309506",
     "exception": false,
     "start_time": "2024-03-20T21:28:20.302817",
     "status": "completed"
    },
    "tags": []
   },
   "source": [
    "**Как создать и отправить корректный Kaggle-ноутбук:**\n",
    "\n",
    "1. На странице соревнования перейдите на вкладку **Code** и нажмите **New Notebook**.\n",
    "![kaggle_notebook_1](https://i.ibb.co/4N7Ncf1/kaggle-notebook-1.png)\n",
    "2. **Никакие дополнительные данные для выполнения задания загружать не нужно** (но это не запрещено). Путь, по которому автоматически находятся необходимые файлы с данными, можно посмотреть, выполнив первую ячейку и изучив ее вывод.\n",
    "![kaggle_notebook_2](https://i.ibb.co/q0bpTNd/kaggle-notebook-2.png)"
   ]
  },
  {
   "cell_type": "markdown",
   "id": "20684b2f",
   "metadata": {
    "papermill": {
     "duration": 0.007233,
     "end_time": "2024-03-20T21:28:20.323775",
     "exception": false,
     "start_time": "2024-03-20T21:28:20.316542",
     "status": "completed"
    },
    "tags": []
   },
   "source": [
    "3. Дать права на чтение ноутбука пользователю [Sergey Serov](https://www.kaggle.com/ssserov/account). Для этого в верхней панели ноутбука нужно нажать кнопку **Share**, далее выбрать **Add collaborators** и в поиске найти пользователя Sergey Serov (вместо owner будет написано collaborator). Не забудьте сохранить изменения кнопкой **Save**.\n",
    "![kaggle_notebook_3.PNG](https://i.ibb.co/F0gRm3S/kaggle-notebook-3.png)\n",
    "![kaggle_notebook_4.PNG](https://i.ibb.co/25mBCKb/kaggle-notebook-4.png)\n",
    "\n",
    "После правильного действия Вы увидите:\n",
    "\n",
    "![kaggle_notebook_5.jpg](https://i.ibb.co/J5Kbgk2/kaggle-notebook-5.jpg)"
   ]
  },
  {
   "cell_type": "markdown",
   "id": "832fd8ff",
   "metadata": {
    "papermill": {
     "duration": 0.006866,
     "end_time": "2024-03-20T21:28:20.338151",
     "exception": false,
     "start_time": "2024-03-20T21:28:20.331285",
     "status": "completed"
    },
    "tags": []
   },
   "source": [
    "4. Для того, чтобы предсказания, полученные kaggle-ноутбуком были корректно учтены системой, он должен сохранять их следующей командой **submission.to_csv(\"/kaggle/working/submission.csv\", index_label=\"index\")**, где **submission** -- ваш датафрейм с предсказаниями (как в примере ниже)."
   ]
  },
  {
   "cell_type": "markdown",
   "id": "6fca20a2",
   "metadata": {
    "papermill": {
     "duration": 0.0071,
     "end_time": "2024-03-20T21:28:20.352549",
     "exception": false,
     "start_time": "2024-03-20T21:28:20.345449",
     "status": "completed"
    },
    "tags": []
   },
   "source": [
    "5. Для отправки ноутбука в правой его панели выберите вкладку **Competitions**, нажмите на кнопку **Submit**, по желанию введите название и описание посылки и подтвердите нажатием кнопки **Submit**.\n",
    "\n",
    "![kaggle_notebook_6.PNG](https://i.ibb.co/N2KsC0Y/kaggle-notebook-6.png)"
   ]
  },
  {
   "cell_type": "markdown",
   "id": "13efb88c",
   "metadata": {
    "papermill": {
     "duration": 0.007565,
     "end_time": "2024-03-20T21:28:20.367409",
     "exception": false,
     "start_time": "2024-03-20T21:28:20.359844",
     "status": "completed"
    },
    "tags": []
   },
   "source": [
    "6. Также этот ноутбук доступен в виде публичного кернела во вкладке **[Code](https://www.kaggle.com/competitions/cmc-ml-steam-activity-prediction/code)** соревнования. Его можно открыть, а затем сразу преобразовать в свой Kaggle-кернел, нажав на три точки справа вверху и выбрав опцию \"Copy & edit notebook\".\n",
    "![kaggle_notebook_7.png](https://i.ibb.co/hVRWzmN/kaggle-notebook-7.png)"
   ]
  },
  {
   "cell_type": "markdown",
   "id": "9d0706c5",
   "metadata": {
    "execution": {
     "iopub.execute_input": "2024-03-20T21:20:06.201620Z",
     "iopub.status.busy": "2024-03-20T21:20:06.201032Z",
     "iopub.status.idle": "2024-03-20T21:20:06.255771Z",
     "shell.execute_reply": "2024-03-20T21:20:06.254467Z",
     "shell.execute_reply.started": "2024-03-20T21:20:06.201575Z"
    },
    "papermill": {
     "duration": 0.006689,
     "end_time": "2024-03-20T21:28:20.395324",
     "exception": false,
     "start_time": "2024-03-20T21:28:20.388635",
     "status": "completed"
    },
    "tags": []
   },
   "source": [
    "**Далее в этом ноутбуке покажем пример формирования csv-файла с предсказаниями принадлежности треков плейлистам для пар из тестовой выборки.**"
   ]
  },
  {
   "cell_type": "markdown",
   "id": "a0c91369",
   "metadata": {
    "papermill": {
     "duration": 0.006661,
     "end_time": "2024-03-20T21:28:20.409170",
     "exception": false,
     "start_time": "2024-03-20T21:28:20.402509",
     "status": "completed"
    },
    "tags": []
   },
   "source": [
    "Для начала импортируем библиотеки и загрузим данные из файлов **train.csv** и **test.csv**."
   ]
  },
  {
   "cell_type": "code",
   "execution_count": 3,
   "id": "2eda82d1",
   "metadata": {
    "papermill": {
     "duration": 1.347573,
     "end_time": "2024-03-20T21:28:21.763764",
     "exception": false,
     "start_time": "2024-03-20T21:28:20.416191",
     "status": "completed"
    },
    "tags": []
   },
   "outputs": [],
   "source": [
    "import pandas as pd\n",
    "from sklearn.metrics import f1_score"
   ]
  },
  {
   "cell_type": "code",
   "execution_count": 4,
   "id": "498a2999",
   "metadata": {
    "papermill": {
     "duration": 6.144307,
     "end_time": "2024-03-20T21:28:27.915251",
     "exception": false,
     "start_time": "2024-03-20T21:28:21.770944",
     "status": "completed"
    },
    "scrolled": true,
    "tags": []
   },
   "outputs": [
    {
     "data": {
      "text/html": [
       "<div>\n",
       "<style scoped>\n",
       "    .dataframe tbody tr th:only-of-type {\n",
       "        vertical-align: middle;\n",
       "    }\n",
       "\n",
       "    .dataframe tbody tr th {\n",
       "        vertical-align: top;\n",
       "    }\n",
       "\n",
       "    .dataframe thead th {\n",
       "        text-align: right;\n",
       "    }\n",
       "</style>\n",
       "<table border=\"1\" class=\"dataframe\">\n",
       "  <thead>\n",
       "    <tr style=\"text-align: right;\">\n",
       "      <th></th>\n",
       "      <th>index</th>\n",
       "      <th>playlist_id</th>\n",
       "      <th>track_id</th>\n",
       "      <th>exists</th>\n",
       "    </tr>\n",
       "  </thead>\n",
       "  <tbody>\n",
       "    <tr>\n",
       "      <th>0</th>\n",
       "      <td>1050194</td>\n",
       "      <td>32931</td>\n",
       "      <td>07vS8obfeZbr8H4MgQfXR7</td>\n",
       "      <td>1</td>\n",
       "    </tr>\n",
       "    <tr>\n",
       "      <th>1</th>\n",
       "      <td>645550</td>\n",
       "      <td>35527</td>\n",
       "      <td>1PEqh7awkpuepLBSq8ZwqD</td>\n",
       "      <td>1</td>\n",
       "    </tr>\n",
       "    <tr>\n",
       "      <th>2</th>\n",
       "      <td>2630414</td>\n",
       "      <td>12203</td>\n",
       "      <td>7E8pPgBY84oDaXRcqODavR</td>\n",
       "      <td>0</td>\n",
       "    </tr>\n",
       "    <tr>\n",
       "      <th>3</th>\n",
       "      <td>3168314</td>\n",
       "      <td>21850</td>\n",
       "      <td>0Atml4huw4Fgyk6YSHiK4M</td>\n",
       "      <td>0</td>\n",
       "    </tr>\n",
       "    <tr>\n",
       "      <th>4</th>\n",
       "      <td>3144464</td>\n",
       "      <td>21391</td>\n",
       "      <td>4WYDmIZrwxBHdBYdvi5oQO</td>\n",
       "      <td>0</td>\n",
       "    </tr>\n",
       "  </tbody>\n",
       "</table>\n",
       "</div>"
      ],
      "text/plain": [
       "     index  playlist_id                track_id  exists\n",
       "0  1050194        32931  07vS8obfeZbr8H4MgQfXR7       1\n",
       "1   645550        35527  1PEqh7awkpuepLBSq8ZwqD       1\n",
       "2  2630414        12203  7E8pPgBY84oDaXRcqODavR       0\n",
       "3  3168314        21850  0Atml4huw4Fgyk6YSHiK4M       0\n",
       "4  3144464        21391  4WYDmIZrwxBHdBYdvi5oQO       0"
      ]
     },
     "execution_count": 4,
     "metadata": {},
     "output_type": "execute_result"
    }
   ],
   "source": [
    "# Используйте эти пути для запуска ноутбука на Kaggle\n",
    "PATH_TO_KAGGLE_TRAIN = \"D:/Programming/Programs_Py/KAGGLE/CMC_MSU_SPOTIFY/train.csv\"\n",
    "PATH_TO_KAGGLE_TEST = \"D:/Programming/Programs_Py/KAGGLE/CMC_MSU_SPOTIFY/test.csv\"\n",
    "PATH_TO_KAGGLE_SUBMISSION = \"D:/Programming/Programs_Py/KAGGLE/CMC_MSU_SPOTIFY/submission.csv\"\n",
    "\n",
    "# Если запускаете на своем компьютере, то впишите актуальные пути\n",
    "# PATH_TO_TRAIN = # Your Path\n",
    "# PATH_TO_TEST = # Your Path\n",
    "# PATH_TO_SUBMISSION = # Your Path\n",
    "\n",
    "train = pd.read_csv(PATH_TO_KAGGLE_TRAIN)\n",
    "test = pd.read_csv(PATH_TO_KAGGLE_TEST)\n",
    "\n",
    "X_train = train.drop([\"index\", \"exists\"], axis=1)\n",
    "y_train = train[\"exists\"]\n",
    "\n",
    "train.head()"
   ]
  },
  {
   "cell_type": "markdown",
   "id": "bdc58a54",
   "metadata": {
    "papermill": {
     "duration": 0.007259,
     "end_time": "2024-03-20T21:28:27.930094",
     "exception": false,
     "start_time": "2024-03-20T21:28:27.922835",
     "status": "completed"
    },
    "tags": []
   },
   "source": [
    "Затем создадим модель и обучим ее на тренировочной выборке."
   ]
  },
  {
   "cell_type": "code",
   "execution_count": 72,
   "id": "852ae300-a483-4c1c-922e-e9721b797e5b",
   "metadata": {},
   "outputs": [],
   "source": [
    "import catboost\n",
    "from sklearn.model_selection import ShuffleSplit\n",
    "from sklearn.metrics import f1_score"
   ]
  },
  {
   "cell_type": "code",
   "execution_count": 117,
   "id": "b087fe42-954d-4704-9d24-ca1d37919ec2",
   "metadata": {},
   "outputs": [],
   "source": [
    "splitter = ShuffleSplit(n_splits=1, train_size=0.95, test_size=0.05, random_state=42)\n",
    "fitting_idx, test_idx = list(splitter.split(X_train))[0]\n",
    "train_idx, validation_idx = list(splitter.split(train_idx))[0]\n",
    "fit_X = X_train.iloc[train_idx]\n",
    "fit_y = y_train.iloc[train_idx]\n",
    "validation_X = X_train.iloc[validation_idx]\n",
    "validation_y = y_train.iloc[validation_idx]\n",
    "test_X = X_train.iloc[test_idx]\n",
    "test_y = y_train.iloc[test_idx]"
   ]
  },
  {
   "cell_type": "code",
   "execution_count": 119,
   "id": "1ef55b63",
   "metadata": {
    "papermill": {
     "duration": 0.015693,
     "end_time": "2024-03-20T21:28:27.953389",
     "exception": false,
     "start_time": "2024-03-20T21:28:27.937696",
     "status": "completed"
    },
    "scrolled": true,
    "tags": []
   },
   "outputs": [
    {
     "name": "stdout",
     "output_type": "stream",
     "text": [
      "Learning rate set to 0.5\n",
      "0:\tlearn: 0.6519288\ttest: 0.6331292\tbest: 0.6331292 (0)\ttotal: 845ms\tremaining: 1m 23s\n",
      "1:\tlearn: 0.6387533\ttest: 0.6148763\tbest: 0.6148763 (1)\ttotal: 1.16s\tremaining: 57s\n",
      "2:\tlearn: 0.6285837\ttest: 0.6070038\tbest: 0.6070038 (2)\ttotal: 1.51s\tremaining: 48.9s\n",
      "3:\tlearn: 0.6248454\ttest: 0.6040470\tbest: 0.6040470 (3)\ttotal: 1.82s\tremaining: 43.8s\n",
      "4:\tlearn: 0.6232279\ttest: 0.6025191\tbest: 0.6025191 (4)\ttotal: 2.09s\tremaining: 39.7s\n",
      "5:\tlearn: 0.6223838\ttest: 0.6010789\tbest: 0.6010789 (5)\ttotal: 2.42s\tremaining: 37.9s\n",
      "6:\tlearn: 0.6220099\ttest: 0.6007061\tbest: 0.6007061 (6)\ttotal: 2.68s\tremaining: 35.6s\n",
      "7:\tlearn: 0.6218121\ttest: 0.6003117\tbest: 0.6003117 (7)\ttotal: 2.94s\tremaining: 33.9s\n",
      "8:\tlearn: 0.6217345\ttest: 0.6003346\tbest: 0.6003117 (7)\ttotal: 3.2s\tremaining: 32.4s\n",
      "9:\tlearn: 0.6216622\ttest: 0.6002251\tbest: 0.6002251 (9)\ttotal: 3.47s\tremaining: 31.2s\n",
      "10:\tlearn: 0.6215905\ttest: 0.5999745\tbest: 0.5999745 (10)\ttotal: 3.72s\tremaining: 30.1s\n",
      "11:\tlearn: 0.6215689\ttest: 0.5998200\tbest: 0.5998200 (11)\ttotal: 4.01s\tremaining: 29.4s\n",
      "12:\tlearn: 0.6215460\ttest: 0.5997656\tbest: 0.5997656 (12)\ttotal: 4.31s\tremaining: 28.8s\n",
      "13:\tlearn: 0.6215333\ttest: 0.5997374\tbest: 0.5997374 (13)\ttotal: 4.57s\tremaining: 28.1s\n",
      "14:\tlearn: 0.6215174\ttest: 0.5997214\tbest: 0.5997214 (14)\ttotal: 4.83s\tremaining: 27.4s\n",
      "15:\tlearn: 0.6215039\ttest: 0.5996841\tbest: 0.5996841 (15)\ttotal: 5.12s\tremaining: 26.9s\n",
      "16:\tlearn: 0.6214955\ttest: 0.5996940\tbest: 0.5996841 (15)\ttotal: 5.37s\tremaining: 26.2s\n",
      "17:\tlearn: 0.6214627\ttest: 0.5994672\tbest: 0.5994672 (17)\ttotal: 5.66s\tremaining: 25.8s\n",
      "18:\tlearn: 0.6214627\ttest: 0.5994673\tbest: 0.5994672 (17)\ttotal: 5.81s\tremaining: 24.8s\n",
      "19:\tlearn: 0.6214603\ttest: 0.5994877\tbest: 0.5994672 (17)\ttotal: 6.01s\tremaining: 24s\n",
      "20:\tlearn: 0.6214568\ttest: 0.5994815\tbest: 0.5994672 (17)\ttotal: 6.26s\tremaining: 23.5s\n",
      "21:\tlearn: 0.6214494\ttest: 0.5994017\tbest: 0.5994017 (21)\ttotal: 6.5s\tremaining: 23s\n",
      "22:\tlearn: 0.6214405\ttest: 0.5993749\tbest: 0.5993749 (22)\ttotal: 6.76s\tremaining: 22.6s\n",
      "23:\tlearn: 0.6214310\ttest: 0.5993530\tbest: 0.5993530 (23)\ttotal: 7.03s\tremaining: 22.3s\n",
      "24:\tlearn: 0.6214172\ttest: 0.5993340\tbest: 0.5993340 (24)\ttotal: 7.29s\tremaining: 21.9s\n",
      "25:\tlearn: 0.6214060\ttest: 0.5993339\tbest: 0.5993339 (25)\ttotal: 7.55s\tremaining: 21.5s\n",
      "26:\tlearn: 0.6213988\ttest: 0.5992892\tbest: 0.5992892 (26)\ttotal: 7.82s\tremaining: 21.1s\n",
      "27:\tlearn: 0.6213943\ttest: 0.5992843\tbest: 0.5992843 (27)\ttotal: 8.07s\tremaining: 20.8s\n",
      "28:\tlearn: 0.6213906\ttest: 0.5992922\tbest: 0.5992843 (27)\ttotal: 8.98s\tremaining: 22s\n",
      "29:\tlearn: 0.6213796\ttest: 0.5992588\tbest: 0.5992588 (29)\ttotal: 9.24s\tremaining: 21.6s\n",
      "30:\tlearn: 0.6213684\ttest: 0.5992598\tbest: 0.5992588 (29)\ttotal: 9.5s\tremaining: 21.1s\n",
      "31:\tlearn: 0.6213501\ttest: 0.5992465\tbest: 0.5992465 (31)\ttotal: 9.76s\tremaining: 20.7s\n",
      "32:\tlearn: 0.6213400\ttest: 0.5992185\tbest: 0.5992185 (32)\ttotal: 10s\tremaining: 20.4s\n",
      "33:\tlearn: 0.6213266\ttest: 0.5991923\tbest: 0.5991923 (33)\ttotal: 10.3s\tremaining: 20s\n",
      "34:\tlearn: 0.6213178\ttest: 0.5991783\tbest: 0.5991783 (34)\ttotal: 10.8s\tremaining: 20s\n",
      "35:\tlearn: 0.6213105\ttest: 0.5991722\tbest: 0.5991722 (35)\ttotal: 11.1s\tremaining: 19.8s\n",
      "36:\tlearn: 0.6213034\ttest: 0.5991374\tbest: 0.5991374 (36)\ttotal: 11.4s\tremaining: 19.5s\n",
      "37:\tlearn: 0.6212986\ttest: 0.5991522\tbest: 0.5991374 (36)\ttotal: 11.7s\tremaining: 19.1s\n",
      "38:\tlearn: 0.6212814\ttest: 0.5991380\tbest: 0.5991374 (36)\ttotal: 12s\tremaining: 18.7s\n",
      "39:\tlearn: 0.6212776\ttest: 0.5991382\tbest: 0.5991374 (36)\ttotal: 12.3s\tremaining: 18.4s\n",
      "40:\tlearn: 0.6212723\ttest: 0.5991182\tbest: 0.5991182 (40)\ttotal: 12.5s\tremaining: 18s\n",
      "41:\tlearn: 0.6212676\ttest: 0.5991209\tbest: 0.5991182 (40)\ttotal: 12.8s\tremaining: 17.7s\n",
      "42:\tlearn: 0.6212617\ttest: 0.5991264\tbest: 0.5991182 (40)\ttotal: 13.2s\tremaining: 17.5s\n",
      "43:\tlearn: 0.6212581\ttest: 0.5991203\tbest: 0.5991182 (40)\ttotal: 13.5s\tremaining: 17.2s\n",
      "44:\tlearn: 0.6212496\ttest: 0.5991227\tbest: 0.5991182 (40)\ttotal: 13.9s\tremaining: 16.9s\n",
      "45:\tlearn: 0.6212375\ttest: 0.5991053\tbest: 0.5991053 (45)\ttotal: 14.2s\tremaining: 16.7s\n",
      "46:\tlearn: 0.6212316\ttest: 0.5990938\tbest: 0.5990938 (46)\ttotal: 14.5s\tremaining: 16.4s\n",
      "47:\tlearn: 0.6212269\ttest: 0.5990937\tbest: 0.5990937 (47)\ttotal: 14.8s\tremaining: 16.1s\n",
      "48:\tlearn: 0.6212227\ttest: 0.5990972\tbest: 0.5990937 (47)\ttotal: 15.2s\tremaining: 15.8s\n",
      "49:\tlearn: 0.6212214\ttest: 0.5990991\tbest: 0.5990937 (47)\ttotal: 15.5s\tremaining: 15.5s\n",
      "50:\tlearn: 0.6212139\ttest: 0.5991048\tbest: 0.5990937 (47)\ttotal: 15.8s\tremaining: 15.2s\n",
      "51:\tlearn: 0.6212027\ttest: 0.5990940\tbest: 0.5990937 (47)\ttotal: 16.2s\tremaining: 14.9s\n",
      "52:\tlearn: 0.6211943\ttest: 0.5990891\tbest: 0.5990891 (52)\ttotal: 16.5s\tremaining: 14.6s\n",
      "53:\tlearn: 0.6211931\ttest: 0.5990885\tbest: 0.5990885 (53)\ttotal: 16.9s\tremaining: 14.4s\n",
      "54:\tlearn: 0.6211856\ttest: 0.5990823\tbest: 0.5990823 (54)\ttotal: 17.2s\tremaining: 14s\n",
      "55:\tlearn: 0.6211813\ttest: 0.5990764\tbest: 0.5990764 (55)\ttotal: 17.4s\tremaining: 13.7s\n",
      "56:\tlearn: 0.6211768\ttest: 0.5990830\tbest: 0.5990764 (55)\ttotal: 17.7s\tremaining: 13.3s\n",
      "57:\tlearn: 0.6211701\ttest: 0.5990923\tbest: 0.5990764 (55)\ttotal: 17.9s\tremaining: 13s\n",
      "58:\tlearn: 0.6211689\ttest: 0.5990968\tbest: 0.5990764 (55)\ttotal: 18.2s\tremaining: 12.7s\n",
      "59:\tlearn: 0.6211664\ttest: 0.5990999\tbest: 0.5990764 (55)\ttotal: 18.5s\tremaining: 12.3s\n",
      "60:\tlearn: 0.6211586\ttest: 0.5991071\tbest: 0.5990764 (55)\ttotal: 18.8s\tremaining: 12s\n",
      "61:\tlearn: 0.6211541\ttest: 0.5990982\tbest: 0.5990764 (55)\ttotal: 19.1s\tremaining: 11.7s\n",
      "62:\tlearn: 0.6211468\ttest: 0.5990916\tbest: 0.5990764 (55)\ttotal: 19.3s\tremaining: 11.4s\n",
      "63:\tlearn: 0.6211435\ttest: 0.5990734\tbest: 0.5990734 (63)\ttotal: 19.6s\tremaining: 11s\n",
      "64:\tlearn: 0.6211381\ttest: 0.5990834\tbest: 0.5990734 (63)\ttotal: 19.9s\tremaining: 10.7s\n",
      "65:\tlearn: 0.6211362\ttest: 0.5990873\tbest: 0.5990734 (63)\ttotal: 20.2s\tremaining: 10.4s\n",
      "66:\tlearn: 0.6211315\ttest: 0.5990771\tbest: 0.5990734 (63)\ttotal: 20.5s\tremaining: 10.1s\n",
      "67:\tlearn: 0.6211281\ttest: 0.5990830\tbest: 0.5990734 (63)\ttotal: 20.8s\tremaining: 9.78s\n",
      "68:\tlearn: 0.6211223\ttest: 0.5990786\tbest: 0.5990734 (63)\ttotal: 21s\tremaining: 9.46s\n",
      "69:\tlearn: 0.6211179\ttest: 0.5990694\tbest: 0.5990694 (69)\ttotal: 21.3s\tremaining: 9.13s\n",
      "70:\tlearn: 0.6211106\ttest: 0.5990643\tbest: 0.5990643 (70)\ttotal: 21.6s\tremaining: 8.81s\n",
      "71:\tlearn: 0.6211072\ttest: 0.5990616\tbest: 0.5990616 (71)\ttotal: 21.8s\tremaining: 8.49s\n",
      "72:\tlearn: 0.6211028\ttest: 0.5990584\tbest: 0.5990584 (72)\ttotal: 22.1s\tremaining: 8.18s\n",
      "73:\tlearn: 0.6211013\ttest: 0.5990539\tbest: 0.5990539 (73)\ttotal: 22.4s\tremaining: 7.85s\n",
      "74:\tlearn: 0.6210944\ttest: 0.5990493\tbest: 0.5990493 (74)\ttotal: 22.6s\tremaining: 7.55s\n",
      "75:\tlearn: 0.6210902\ttest: 0.5990474\tbest: 0.5990474 (75)\ttotal: 22.9s\tremaining: 7.23s\n",
      "76:\tlearn: 0.6210837\ttest: 0.5990461\tbest: 0.5990461 (76)\ttotal: 23.2s\tremaining: 6.92s\n",
      "77:\tlearn: 0.6210799\ttest: 0.5990368\tbest: 0.5990368 (77)\ttotal: 23.4s\tremaining: 6.61s\n",
      "78:\tlearn: 0.6210744\ttest: 0.5990379\tbest: 0.5990368 (77)\ttotal: 23.7s\tremaining: 6.29s\n",
      "79:\tlearn: 0.6210697\ttest: 0.5990505\tbest: 0.5990368 (77)\ttotal: 23.9s\tremaining: 5.98s\n",
      "80:\tlearn: 0.6210646\ttest: 0.5990499\tbest: 0.5990368 (77)\ttotal: 24.2s\tremaining: 5.68s\n",
      "81:\tlearn: 0.6210593\ttest: 0.5990559\tbest: 0.5990368 (77)\ttotal: 24.5s\tremaining: 5.38s\n",
      "82:\tlearn: 0.6210561\ttest: 0.5990625\tbest: 0.5990368 (77)\ttotal: 24.8s\tremaining: 5.07s\n",
      "83:\tlearn: 0.6210526\ttest: 0.5990592\tbest: 0.5990368 (77)\ttotal: 25s\tremaining: 4.76s\n",
      "84:\tlearn: 0.6210517\ttest: 0.5990534\tbest: 0.5990368 (77)\ttotal: 25.3s\tremaining: 4.46s\n",
      "85:\tlearn: 0.6210481\ttest: 0.5990540\tbest: 0.5990368 (77)\ttotal: 25.6s\tremaining: 4.16s\n",
      "86:\tlearn: 0.6210462\ttest: 0.5990509\tbest: 0.5990368 (77)\ttotal: 25.8s\tremaining: 3.85s\n",
      "87:\tlearn: 0.6210371\ttest: 0.5990395\tbest: 0.5990368 (77)\ttotal: 26.1s\tremaining: 3.56s\n",
      "88:\tlearn: 0.6210370\ttest: 0.5990391\tbest: 0.5990368 (77)\ttotal: 26.3s\tremaining: 3.25s\n",
      "89:\tlearn: 0.6210342\ttest: 0.5990374\tbest: 0.5990368 (77)\ttotal: 26.6s\tremaining: 2.95s\n",
      "90:\tlearn: 0.6210308\ttest: 0.5990255\tbest: 0.5990255 (90)\ttotal: 26.8s\tremaining: 2.65s\n",
      "91:\tlearn: 0.6210252\ttest: 0.5990307\tbest: 0.5990255 (90)\ttotal: 27.2s\tremaining: 2.36s\n",
      "92:\tlearn: 0.6210224\ttest: 0.5990298\tbest: 0.5990255 (90)\ttotal: 27.4s\tremaining: 2.06s\n",
      "93:\tlearn: 0.6210200\ttest: 0.5990368\tbest: 0.5990255 (90)\ttotal: 27.8s\tremaining: 1.77s\n",
      "94:\tlearn: 0.6210180\ttest: 0.5990419\tbest: 0.5990255 (90)\ttotal: 28.1s\tremaining: 1.48s\n",
      "95:\tlearn: 0.6210148\ttest: 0.5990407\tbest: 0.5990255 (90)\ttotal: 28.5s\tremaining: 1.19s\n",
      "96:\tlearn: 0.6210129\ttest: 0.5990267\tbest: 0.5990255 (90)\ttotal: 28.9s\tremaining: 892ms\n",
      "97:\tlearn: 0.6210078\ttest: 0.5990249\tbest: 0.5990249 (97)\ttotal: 29.1s\tremaining: 594ms\n",
      "98:\tlearn: 0.6210046\ttest: 0.5990286\tbest: 0.5990249 (97)\ttotal: 29.4s\tremaining: 297ms\n",
      "99:\tlearn: 0.6210032\ttest: 0.5990315\tbest: 0.5990249 (97)\ttotal: 29.6s\tremaining: 0us\n",
      "\n",
      "bestTest = 0.5990249489\n",
      "bestIteration = 97\n",
      "\n",
      "Shrink model to first 98 iterations.\n"
     ]
    },
    {
     "data": {
      "text/plain": [
       "<catboost.core.CatBoostClassifier at 0x1fa5c067eb0>"
      ]
     },
     "execution_count": 119,
     "metadata": {},
     "output_type": "execute_result"
    }
   ],
   "source": [
    "model = catboost.CatBoostClassifier(iterations=100, custom_loss='F1',\n",
    "                                    cat_features=['track_id'])\n",
    "model.fit(fit_X, fit_y, eval_set=(validation_X, validation_y))"
   ]
  },
  {
   "cell_type": "markdown",
   "id": "050948b7",
   "metadata": {
    "papermill": {
     "duration": 0.007136,
     "end_time": "2024-03-20T21:28:27.968204",
     "exception": false,
     "start_time": "2024-03-20T21:28:27.961068",
     "status": "completed"
    },
    "tags": []
   },
   "source": [
    "Вычислим ошибку модели на тренировочной выборке."
   ]
  },
  {
   "cell_type": "code",
   "execution_count": 121,
   "id": "2ac23f8f",
   "metadata": {
    "papermill": {
     "duration": 3.043651,
     "end_time": "2024-03-20T21:28:31.019326",
     "exception": false,
     "start_time": "2024-03-20T21:28:27.975675",
     "status": "completed"
    },
    "scrolled": true,
    "tags": []
   },
   "outputs": [
    {
     "name": "stdout",
     "output_type": "stream",
     "text": [
      "Train F1-score: 0.6307717493387098\n"
     ]
    }
   ],
   "source": [
    "y_pred = model.predict(test_X)\n",
    "\n",
    "print(f\"Train F1-score: {f1_score(test_y, y_pred)}\")"
   ]
  },
  {
   "cell_type": "markdown",
   "id": "65e8764b",
   "metadata": {
    "papermill": {
     "duration": 0.007737,
     "end_time": "2024-03-20T21:28:31.035279",
     "exception": false,
     "start_time": "2024-03-20T21:28:31.027542",
     "status": "completed"
    },
    "tags": []
   },
   "source": [
    "В заключение получим столбец предсказаний принадлежностей треков плейлистам для тестовой выборки и сохраним его в виде csv-файла (обратите внимание, что в выходном файле должно быть два столбца -- **index** и **exists**)."
   ]
  },
  {
   "cell_type": "code",
   "execution_count": 122,
   "id": "c03b8209",
   "metadata": {
    "papermill": {
     "duration": 0.612554,
     "end_time": "2024-03-20T21:28:31.656011",
     "exception": false,
     "start_time": "2024-03-20T21:28:31.043457",
     "status": "completed"
    },
    "tags": []
   },
   "outputs": [],
   "source": [
    "test_pred = model.predict(test.drop(\"index\", axis=1))\n",
    "\n",
    "submission = pd.DataFrame({\"index\": test[\"index\"], \n",
    "                           \"exists\": test_pred})"
   ]
  },
  {
   "cell_type": "code",
   "execution_count": 123,
   "id": "9533f5ec",
   "metadata": {
    "papermill": {
     "duration": 1.589613,
     "end_time": "2024-03-20T21:28:33.253406",
     "exception": false,
     "start_time": "2024-03-20T21:28:31.663793",
     "status": "completed"
    },
    "tags": []
   },
   "outputs": [],
   "source": [
    "submission.to_csv(PATH_TO_KAGGLE_SUBMISSION, index=False)"
   ]
  }
 ],
 "metadata": {
  "kaggle": {
   "accelerator": "none",
   "dataSources": [
    {
     "databundleVersionId": 8006085,
     "sourceId": 72844,
     "sourceType": "competition"
    }
   ],
   "dockerImageVersionId": 30664,
   "isGpuEnabled": false,
   "isInternetEnabled": true,
   "language": "python",
   "sourceType": "notebook"
  },
  "kernelspec": {
   "display_name": "Python 3 (ipykernel)",
   "language": "python",
   "name": "python3"
  },
  "language_info": {
   "codemirror_mode": {
    "name": "ipython",
    "version": 3
   },
   "file_extension": ".py",
   "mimetype": "text/x-python",
   "name": "python",
   "nbconvert_exporter": "python",
   "pygments_lexer": "ipython3",
   "version": "3.10.11"
  },
  "papermill": {
   "default_parameters": {},
   "duration": 17.915213,
   "end_time": "2024-03-20T21:28:34.098659",
   "environment_variables": {},
   "exception": null,
   "input_path": "__notebook__.ipynb",
   "output_path": "__notebook__.ipynb",
   "parameters": {},
   "start_time": "2024-03-20T21:28:16.183446",
   "version": "2.5.0"
  }
 },
 "nbformat": 4,
 "nbformat_minor": 5
}
